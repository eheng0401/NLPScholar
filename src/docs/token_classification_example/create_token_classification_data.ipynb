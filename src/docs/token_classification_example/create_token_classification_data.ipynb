{
 "cells": [
  {
   "cell_type": "markdown",
   "id": "379f1e63-6f4e-41e4-a985-8906e95a5322",
   "metadata": {},
   "source": [
    "# Part of speech labeling using NLPScholar"
   ]
  },
  {
   "cell_type": "code",
   "execution_count": 1,
   "id": "0bc0d2a4-292b-485c-85a4-3787f758fb3d",
   "metadata": {},
   "outputs": [
    {
     "name": "stdout",
     "output_type": "stream",
     "text": [
      "Requirement already satisfied: gdown in /opt/homebrew/Caskroom/miniforge/base/envs/nlp/lib/python3.10/site-packages (5.2.0)\n",
      "Requirement already satisfied: beautifulsoup4 in /opt/homebrew/Caskroom/miniforge/base/envs/nlp/lib/python3.10/site-packages (from gdown) (4.12.3)\n",
      "Requirement already satisfied: filelock in /opt/homebrew/Caskroom/miniforge/base/envs/nlp/lib/python3.10/site-packages (from gdown) (3.15.4)\n",
      "Requirement already satisfied: requests[socks] in /opt/homebrew/Caskroom/miniforge/base/envs/nlp/lib/python3.10/site-packages (from gdown) (2.32.3)\n",
      "Requirement already satisfied: tqdm in /opt/homebrew/Caskroom/miniforge/base/envs/nlp/lib/python3.10/site-packages (from gdown) (4.66.4)\n",
      "Requirement already satisfied: soupsieve>1.2 in /opt/homebrew/Caskroom/miniforge/base/envs/nlp/lib/python3.10/site-packages (from beautifulsoup4->gdown) (2.5)\n",
      "Requirement already satisfied: charset-normalizer<4,>=2 in /opt/homebrew/Caskroom/miniforge/base/envs/nlp/lib/python3.10/site-packages (from requests[socks]->gdown) (3.3.2)\n",
      "Requirement already satisfied: idna<4,>=2.5 in /opt/homebrew/Caskroom/miniforge/base/envs/nlp/lib/python3.10/site-packages (from requests[socks]->gdown) (3.7)\n",
      "Requirement already satisfied: urllib3<3,>=1.21.1 in /opt/homebrew/Caskroom/miniforge/base/envs/nlp/lib/python3.10/site-packages (from requests[socks]->gdown) (2.2.2)\n",
      "Requirement already satisfied: certifi>=2017.4.17 in /opt/homebrew/Caskroom/miniforge/base/envs/nlp/lib/python3.10/site-packages (from requests[socks]->gdown) (2024.7.4)\n",
      "Requirement already satisfied: PySocks!=1.5.7,>=1.5.6 in /opt/homebrew/Caskroom/miniforge/base/envs/nlp/lib/python3.10/site-packages (from requests[socks]->gdown) (1.7.1)\n"
     ]
    }
   ],
   "source": [
    "!pip install gdown"
   ]
  },
  {
   "cell_type": "markdown",
   "id": "c52c2a5a-3a32-40bd-996b-940d08e18d66",
   "metadata": {},
   "source": [
    "Goal: Label English words with their part of speech in a sentence"
   ]
  },
  {
   "cell_type": "markdown",
   "id": "e6837c17-401c-448c-82ec-52f6199c4dbd",
   "metadata": {},
   "source": [
    "Data: Let's use some data that's not fully correctly formatted for NLPScholar so you can see how it works. Namely, data from [here](https://github.com/UniversalDependencies/UD_English-PUD/blob/master/en_pud-ud-test.conllu). "
   ]
  },
  {
   "cell_type": "code",
   "execution_count": 2,
   "id": "da9f187c-6478-4451-9467-ad90863873fa",
   "metadata": {},
   "outputs": [
    {
     "name": "stdout",
     "output_type": "stream",
     "text": [
      "Downloading...\n",
      "From: https://drive.google.com/uc?id=1IYUBUOcS_hZINPicUPXffKEf8NvY6gC9\n",
      "To: /Users/forrestdavis/Teaching/NLPScholar/src/docs/token_classification_example/en_pud-ud-test.conllu\n",
      "100%|██████████████████████████████████████| 1.35M/1.35M [00:00<00:00, 3.29MB/s]\n"
     ]
    }
   ],
   "source": [
    "# Sample\n",
    "!gdown '1IYUBUOcS_hZINPicUPXffKEf8NvY6gC9'"
   ]
  },
  {
   "cell_type": "code",
   "execution_count": 46,
   "id": "089e381c-00b8-444a-90cf-d9e4c7e5e6e7",
   "metadata": {},
   "outputs": [],
   "source": [
    "def get_sentences_from_conllu(fname: str):\n",
    "    all_sentences = []\n",
    "    all_labels = []\n",
    "    sentence = []\n",
    "    labels = []\n",
    "    pos2id = {}\n",
    "    idx = 0\n",
    "    with open(fname, 'r') as f:\n",
    "        for line in f:\n",
    "            line = line.strip()\n",
    "            if '#' in line:\n",
    "                continue\n",
    "\n",
    "            line = line.split()\n",
    "\n",
    "            if line == []:\n",
    "                all_sentences.append(sentence)\n",
    "                all_labels.append(labels)\n",
    "                sentence = []\n",
    "                labels = []\n",
    "                continue \n",
    "                \n",
    "            word, pos = line[1], line[3]\n",
    "            if pos not in pos2id:\n",
    "                pos2id[pos] = idx\n",
    "                idx += 1\n",
    "            sentence.append(word)\n",
    "            labels.append(pos2id[pos])\n",
    "\n",
    "    return all_sentences, all_labels, pos2id\n",
    "\n",
    "sentences, labels, pos2id = get_sentences_from_conllu('en_pud-ud-test.conllu')"
   ]
  },
  {
   "cell_type": "code",
   "execution_count": 7,
   "id": "e81c4529-6d0b-4af2-8fe7-1da8eca0e758",
   "metadata": {},
   "outputs": [
    {
     "name": "stdout",
     "output_type": "stream",
     "text": [
      "['“', 'While', 'much', 'of', 'the', 'digital', 'transition', 'is', 'unprecedented', 'in', 'the', 'United', 'States', ',', 'the', 'peaceful', 'transition', 'of', 'power', 'is', 'not', ',', '”', 'Obama', 'special', 'assistant', 'Kori', 'Schulman', 'wrote', 'in', 'a', 'blog', 'post', 'Monday', '.']\n",
      "[0, 1, 2, 3, 4, 2, 5, 6, 2, 3, 4, 7, 7, 0, 4, 2, 5, 3, 5, 6, 8, 0, 0, 7, 2, 5, 7, 7, 9, 3, 4, 5, 5, 7, 0]\n"
     ]
    }
   ],
   "source": [
    "print(sentences[0])\n",
    "print(labels[0])"
   ]
  },
  {
   "cell_type": "code",
   "execution_count": 11,
   "id": "245d70bf-80e0-4ec6-bf10-e14f50ccd0b6",
   "metadata": {},
   "outputs": [
    {
     "name": "stdout",
     "output_type": "stream",
     "text": [
      "0: PUNCT\n",
      "1: SCONJ\n",
      "2: ADJ\n",
      "3: ADP\n",
      "4: DET\n",
      "5: NOUN\n",
      "6: AUX\n",
      "7: PROPN\n",
      "8: ADV\n",
      "9: VERB\n",
      "10: PRON\n",
      "11: CCONJ\n",
      "12: PART\n",
      "13: SYM\n",
      "14: NUM\n",
      "15: _\n",
      "16: INTJ\n",
      "17: X\n"
     ]
    }
   ],
   "source": [
    "for pos, idx in pos2id.items():\n",
    "    print(f\"{idx}: {pos}\")"
   ]
  },
  {
   "cell_type": "code",
   "execution_count": 47,
   "id": "963f22e7-254c-49cd-b8d9-32aae2a76ed5",
   "metadata": {},
   "outputs": [],
   "source": [
    "def split_data(sentences: list, labels: list): \n",
    "    ind1 = int(len(sentences)*0.8)\n",
    "    ind2 = int(len(sentences)*0.9)\n",
    "    train = sentences[:ind1] \n",
    "    val = sentences[ind1 : ind2]\n",
    "    test = sentences[ind2 : ]\n",
    "    sentences = {'train': train, \n",
    "                'valid': val, \n",
    "                'test': test}\n",
    "    train = labels[:ind1] \n",
    "    val = labels[ind1 : ind2]\n",
    "    test = labels[ind2 : ]\n",
    "    labels = {'train': train, \n",
    "                'valid': val, \n",
    "                'test': test} \n",
    "    return sentences, labels\n",
    "sentences, labels = split_data(sentences, labels)"
   ]
  },
  {
   "cell_type": "code",
   "execution_count": 48,
   "id": "8341009b-5987-4900-9672-1720bb615f2b",
   "metadata": {},
   "outputs": [],
   "source": [
    "# create jsonl\n",
    "import json\n",
    "with open(\"train.jsonl\", 'w') as f:\n",
    "    for sentence, label in zip(sentences['train'], labels['train']):\n",
    "        item = {'tokens': sentence, \n",
    "                'tags': label}\n",
    "        f.write(json.dumps(item) + \"\\n\")"
   ]
  },
  {
   "cell_type": "code",
   "execution_count": 49,
   "id": "50874fdf-8efe-4e80-b0d3-aba5d4574314",
   "metadata": {},
   "outputs": [],
   "source": [
    "# create json \n",
    "with open(\"valid.jsonl\", 'w') as f:\n",
    "    for sentence, label in zip(sentences['valid'], labels['valid']):\n",
    "        item = {'tokens': sentence, \n",
    "                'tags': label}\n",
    "        f.write(json.dumps(item) + \"\\n\")"
   ]
  },
  {
   "cell_type": "code",
   "execution_count": 50,
   "id": "7076ce7a-0ef1-4884-b6f0-d09ed057cc7e",
   "metadata": {},
   "outputs": [],
   "source": [
    "# create test\n",
    "import pandas as pd\n",
    "# Has to be a text file with the following information\n",
    "data = {'textid': [],\n",
    "        'text': [], \n",
    "        'condition': [],\n",
    "        'target': []}\n",
    "\n",
    "# reverse pos2id\n",
    "id2pos = {}\n",
    "for pos, idx in pos2id.items():\n",
    "    id2pos[idx] = pos\n",
    "\n",
    "textid = 0\n",
    "for s, l in  zip(sentences['test'], labels['test']):\n",
    "    # map labels back to pos\n",
    "    l = list(map(lambda x: id2pos[x], l))\n",
    "    data['textid'].append(textid)\n",
    "    data['text'].append(' '.join(s))\n",
    "    data['condition'].append('UD_EN')\n",
    "    data['target'].append(' '.join(l))\n",
    "data = pd.DataFrame.from_dict(data)\n",
    "data.to_csv('test.tsv', sep='\\t', index=False)\n",
    "\n",
    "        "
   ]
  }
 ],
 "metadata": {
  "kernelspec": {
   "display_name": "Python 3 (ipykernel)",
   "language": "python",
   "name": "python3"
  },
  "language_info": {
   "codemirror_mode": {
    "name": "ipython",
    "version": 3
   },
   "file_extension": ".py",
   "mimetype": "text/x-python",
   "name": "python",
   "nbconvert_exporter": "python",
   "pygments_lexer": "ipython3",
   "version": "3.10.14"
  }
 },
 "nbformat": 4,
 "nbformat_minor": 5
}
